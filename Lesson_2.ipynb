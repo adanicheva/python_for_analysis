{
  "metadata": {
    "language_info": {
      "codemirror_mode": {
        "name": "python",
        "version": 3
      },
      "file_extension": ".py",
      "mimetype": "text/x-python",
      "name": "python",
      "nbconvert_exporter": "python",
      "pygments_lexer": "ipython3",
      "version": "3.8"
    },
    "kernelspec": {
      "name": "python",
      "display_name": "Python (Pyodide)",
      "language": "python"
    }
  },
  "nbformat_minor": 4,
  "nbformat": 4,
  "cells": [
    {
      "cell_type": "code",
      "source": "import pandas as pd",
      "metadata": {
        "trusted": true
      },
      "execution_count": 1,
      "outputs": []
    },
    {
      "cell_type": "markdown",
      "source": "## 1 задача\n### Скачать данные по ссылке https://www.kaggle.com/datasets/shivachandel/kc-house-data\n### Файл прикрепил к материалам kc_house_data.csv\n### Считать данные с помощью pandas\n### Вывести на экран первые 5 строк\n### Посмотреть на описание признаков и на их содержание",
      "metadata": {}
    },
    {
      "cell_type": "code",
      "source": "df = pd.read_csv('kc_house_data.csv')\ndf",
      "metadata": {
        "trusted": true
      },
      "execution_count": 5,
      "outputs": [
        {
          "execution_count": 5,
          "output_type": "execute_result",
          "data": {
            "text/plain": "               id             date     price  bedrooms  bathrooms  \\\n0      7129300520  20141013T000000  221900.0         3       1.00   \n1      6414100192  20141209T000000  538000.0         3       2.25   \n2      5631500400  20150225T000000  180000.0         2       1.00   \n3      2487200875  20141209T000000  604000.0         4       3.00   \n4      1954400510  20150218T000000  510000.0         3       2.00   \n...           ...              ...       ...       ...        ...   \n21608   263000018  20140521T000000  360000.0         3       2.50   \n21609  6600060120  20150223T000000  400000.0         4       2.50   \n21610  1523300141  20140623T000000  402101.0         2       0.75   \n21611   291310100  20150116T000000  400000.0         3       2.50   \n21612  1523300157  20141015T000000  325000.0         2       0.75   \n\n       sqft_living  sqft_lot  floors  waterfront  view  ...  grade  \\\n0             1180      5650     1.0           0     0  ...      7   \n1             2570      7242     2.0           0     0  ...      7   \n2              770     10000     1.0           0     0  ...      6   \n3             1960      5000     1.0           0     0  ...      7   \n4             1680      8080     1.0           0     0  ...      8   \n...            ...       ...     ...         ...   ...  ...    ...   \n21608         1530      1131     3.0           0     0  ...      8   \n21609         2310      5813     2.0           0     0  ...      8   \n21610         1020      1350     2.0           0     0  ...      7   \n21611         1600      2388     2.0           0     0  ...      8   \n21612         1020      1076     2.0           0     0  ...      7   \n\n       sqft_above  sqft_basement  yr_built  yr_renovated  zipcode      lat  \\\n0          1180.0              0      1955             0    98178  47.5112   \n1          2170.0            400      1951          1991    98125  47.7210   \n2           770.0              0      1933             0    98028  47.7379   \n3          1050.0            910      1965             0    98136  47.5208   \n4          1680.0              0      1987             0    98074  47.6168   \n...           ...            ...       ...           ...      ...      ...   \n21608      1530.0              0      2009             0    98103  47.6993   \n21609      2310.0              0      2014             0    98146  47.5107   \n21610      1020.0              0      2009             0    98144  47.5944   \n21611      1600.0              0      2004             0    98027  47.5345   \n21612      1020.0              0      2008             0    98144  47.5941   \n\n          long  sqft_living15  sqft_lot15  \n0     -122.257           1340        5650  \n1     -122.319           1690        7639  \n2     -122.233           2720        8062  \n3     -122.393           1360        5000  \n4     -122.045           1800        7503  \n...        ...            ...         ...  \n21608 -122.346           1530        1509  \n21609 -122.362           1830        7200  \n21610 -122.299           1020        2007  \n21611 -122.069           1410        1287  \n21612 -122.299           1020        1357  \n\n[21613 rows x 21 columns]",
            "text/html": "<div>\n<style scoped>\n    .dataframe tbody tr th:only-of-type {\n        vertical-align: middle;\n    }\n\n    .dataframe tbody tr th {\n        vertical-align: top;\n    }\n\n    .dataframe thead th {\n        text-align: right;\n    }\n</style>\n<table border=\"1\" class=\"dataframe\">\n  <thead>\n    <tr style=\"text-align: right;\">\n      <th></th>\n      <th>id</th>\n      <th>date</th>\n      <th>price</th>\n      <th>bedrooms</th>\n      <th>bathrooms</th>\n      <th>sqft_living</th>\n      <th>sqft_lot</th>\n      <th>floors</th>\n      <th>waterfront</th>\n      <th>view</th>\n      <th>...</th>\n      <th>grade</th>\n      <th>sqft_above</th>\n      <th>sqft_basement</th>\n      <th>yr_built</th>\n      <th>yr_renovated</th>\n      <th>zipcode</th>\n      <th>lat</th>\n      <th>long</th>\n      <th>sqft_living15</th>\n      <th>sqft_lot15</th>\n    </tr>\n  </thead>\n  <tbody>\n    <tr>\n      <th>0</th>\n      <td>7129300520</td>\n      <td>20141013T000000</td>\n      <td>221900.0</td>\n      <td>3</td>\n      <td>1.00</td>\n      <td>1180</td>\n      <td>5650</td>\n      <td>1.0</td>\n      <td>0</td>\n      <td>0</td>\n      <td>...</td>\n      <td>7</td>\n      <td>1180.0</td>\n      <td>0</td>\n      <td>1955</td>\n      <td>0</td>\n      <td>98178</td>\n      <td>47.5112</td>\n      <td>-122.257</td>\n      <td>1340</td>\n      <td>5650</td>\n    </tr>\n    <tr>\n      <th>1</th>\n      <td>6414100192</td>\n      <td>20141209T000000</td>\n      <td>538000.0</td>\n      <td>3</td>\n      <td>2.25</td>\n      <td>2570</td>\n      <td>7242</td>\n      <td>2.0</td>\n      <td>0</td>\n      <td>0</td>\n      <td>...</td>\n      <td>7</td>\n      <td>2170.0</td>\n      <td>400</td>\n      <td>1951</td>\n      <td>1991</td>\n      <td>98125</td>\n      <td>47.7210</td>\n      <td>-122.319</td>\n      <td>1690</td>\n      <td>7639</td>\n    </tr>\n    <tr>\n      <th>2</th>\n      <td>5631500400</td>\n      <td>20150225T000000</td>\n      <td>180000.0</td>\n      <td>2</td>\n      <td>1.00</td>\n      <td>770</td>\n      <td>10000</td>\n      <td>1.0</td>\n      <td>0</td>\n      <td>0</td>\n      <td>...</td>\n      <td>6</td>\n      <td>770.0</td>\n      <td>0</td>\n      <td>1933</td>\n      <td>0</td>\n      <td>98028</td>\n      <td>47.7379</td>\n      <td>-122.233</td>\n      <td>2720</td>\n      <td>8062</td>\n    </tr>\n    <tr>\n      <th>3</th>\n      <td>2487200875</td>\n      <td>20141209T000000</td>\n      <td>604000.0</td>\n      <td>4</td>\n      <td>3.00</td>\n      <td>1960</td>\n      <td>5000</td>\n      <td>1.0</td>\n      <td>0</td>\n      <td>0</td>\n      <td>...</td>\n      <td>7</td>\n      <td>1050.0</td>\n      <td>910</td>\n      <td>1965</td>\n      <td>0</td>\n      <td>98136</td>\n      <td>47.5208</td>\n      <td>-122.393</td>\n      <td>1360</td>\n      <td>5000</td>\n    </tr>\n    <tr>\n      <th>4</th>\n      <td>1954400510</td>\n      <td>20150218T000000</td>\n      <td>510000.0</td>\n      <td>3</td>\n      <td>2.00</td>\n      <td>1680</td>\n      <td>8080</td>\n      <td>1.0</td>\n      <td>0</td>\n      <td>0</td>\n      <td>...</td>\n      <td>8</td>\n      <td>1680.0</td>\n      <td>0</td>\n      <td>1987</td>\n      <td>0</td>\n      <td>98074</td>\n      <td>47.6168</td>\n      <td>-122.045</td>\n      <td>1800</td>\n      <td>7503</td>\n    </tr>\n    <tr>\n      <th>...</th>\n      <td>...</td>\n      <td>...</td>\n      <td>...</td>\n      <td>...</td>\n      <td>...</td>\n      <td>...</td>\n      <td>...</td>\n      <td>...</td>\n      <td>...</td>\n      <td>...</td>\n      <td>...</td>\n      <td>...</td>\n      <td>...</td>\n      <td>...</td>\n      <td>...</td>\n      <td>...</td>\n      <td>...</td>\n      <td>...</td>\n      <td>...</td>\n      <td>...</td>\n      <td>...</td>\n    </tr>\n    <tr>\n      <th>21608</th>\n      <td>263000018</td>\n      <td>20140521T000000</td>\n      <td>360000.0</td>\n      <td>3</td>\n      <td>2.50</td>\n      <td>1530</td>\n      <td>1131</td>\n      <td>3.0</td>\n      <td>0</td>\n      <td>0</td>\n      <td>...</td>\n      <td>8</td>\n      <td>1530.0</td>\n      <td>0</td>\n      <td>2009</td>\n      <td>0</td>\n      <td>98103</td>\n      <td>47.6993</td>\n      <td>-122.346</td>\n      <td>1530</td>\n      <td>1509</td>\n    </tr>\n    <tr>\n      <th>21609</th>\n      <td>6600060120</td>\n      <td>20150223T000000</td>\n      <td>400000.0</td>\n      <td>4</td>\n      <td>2.50</td>\n      <td>2310</td>\n      <td>5813</td>\n      <td>2.0</td>\n      <td>0</td>\n      <td>0</td>\n      <td>...</td>\n      <td>8</td>\n      <td>2310.0</td>\n      <td>0</td>\n      <td>2014</td>\n      <td>0</td>\n      <td>98146</td>\n      <td>47.5107</td>\n      <td>-122.362</td>\n      <td>1830</td>\n      <td>7200</td>\n    </tr>\n    <tr>\n      <th>21610</th>\n      <td>1523300141</td>\n      <td>20140623T000000</td>\n      <td>402101.0</td>\n      <td>2</td>\n      <td>0.75</td>\n      <td>1020</td>\n      <td>1350</td>\n      <td>2.0</td>\n      <td>0</td>\n      <td>0</td>\n      <td>...</td>\n      <td>7</td>\n      <td>1020.0</td>\n      <td>0</td>\n      <td>2009</td>\n      <td>0</td>\n      <td>98144</td>\n      <td>47.5944</td>\n      <td>-122.299</td>\n      <td>1020</td>\n      <td>2007</td>\n    </tr>\n    <tr>\n      <th>21611</th>\n      <td>291310100</td>\n      <td>20150116T000000</td>\n      <td>400000.0</td>\n      <td>3</td>\n      <td>2.50</td>\n      <td>1600</td>\n      <td>2388</td>\n      <td>2.0</td>\n      <td>0</td>\n      <td>0</td>\n      <td>...</td>\n      <td>8</td>\n      <td>1600.0</td>\n      <td>0</td>\n      <td>2004</td>\n      <td>0</td>\n      <td>98027</td>\n      <td>47.5345</td>\n      <td>-122.069</td>\n      <td>1410</td>\n      <td>1287</td>\n    </tr>\n    <tr>\n      <th>21612</th>\n      <td>1523300157</td>\n      <td>20141015T000000</td>\n      <td>325000.0</td>\n      <td>2</td>\n      <td>0.75</td>\n      <td>1020</td>\n      <td>1076</td>\n      <td>2.0</td>\n      <td>0</td>\n      <td>0</td>\n      <td>...</td>\n      <td>7</td>\n      <td>1020.0</td>\n      <td>0</td>\n      <td>2008</td>\n      <td>0</td>\n      <td>98144</td>\n      <td>47.5941</td>\n      <td>-122.299</td>\n      <td>1020</td>\n      <td>1357</td>\n    </tr>\n  </tbody>\n</table>\n<p>21613 rows × 21 columns</p>\n</div>"
          },
          "metadata": {}
        }
      ]
    },
    {
      "cell_type": "code",
      "source": "df.head()",
      "metadata": {
        "trusted": true
      },
      "execution_count": 6,
      "outputs": [
        {
          "execution_count": 6,
          "output_type": "execute_result",
          "data": {
            "text/plain": "           id             date     price  bedrooms  bathrooms  sqft_living  \\\n0  7129300520  20141013T000000  221900.0         3       1.00         1180   \n1  6414100192  20141209T000000  538000.0         3       2.25         2570   \n2  5631500400  20150225T000000  180000.0         2       1.00          770   \n3  2487200875  20141209T000000  604000.0         4       3.00         1960   \n4  1954400510  20150218T000000  510000.0         3       2.00         1680   \n\n   sqft_lot  floors  waterfront  view  ...  grade  sqft_above  sqft_basement  \\\n0      5650     1.0           0     0  ...      7      1180.0              0   \n1      7242     2.0           0     0  ...      7      2170.0            400   \n2     10000     1.0           0     0  ...      6       770.0              0   \n3      5000     1.0           0     0  ...      7      1050.0            910   \n4      8080     1.0           0     0  ...      8      1680.0              0   \n\n   yr_built  yr_renovated  zipcode      lat     long  sqft_living15  \\\n0      1955             0    98178  47.5112 -122.257           1340   \n1      1951          1991    98125  47.7210 -122.319           1690   \n2      1933             0    98028  47.7379 -122.233           2720   \n3      1965             0    98136  47.5208 -122.393           1360   \n4      1987             0    98074  47.6168 -122.045           1800   \n\n   sqft_lot15  \n0        5650  \n1        7639  \n2        8062  \n3        5000  \n4        7503  \n\n[5 rows x 21 columns]",
            "text/html": "<div>\n<style scoped>\n    .dataframe tbody tr th:only-of-type {\n        vertical-align: middle;\n    }\n\n    .dataframe tbody tr th {\n        vertical-align: top;\n    }\n\n    .dataframe thead th {\n        text-align: right;\n    }\n</style>\n<table border=\"1\" class=\"dataframe\">\n  <thead>\n    <tr style=\"text-align: right;\">\n      <th></th>\n      <th>id</th>\n      <th>date</th>\n      <th>price</th>\n      <th>bedrooms</th>\n      <th>bathrooms</th>\n      <th>sqft_living</th>\n      <th>sqft_lot</th>\n      <th>floors</th>\n      <th>waterfront</th>\n      <th>view</th>\n      <th>...</th>\n      <th>grade</th>\n      <th>sqft_above</th>\n      <th>sqft_basement</th>\n      <th>yr_built</th>\n      <th>yr_renovated</th>\n      <th>zipcode</th>\n      <th>lat</th>\n      <th>long</th>\n      <th>sqft_living15</th>\n      <th>sqft_lot15</th>\n    </tr>\n  </thead>\n  <tbody>\n    <tr>\n      <th>0</th>\n      <td>7129300520</td>\n      <td>20141013T000000</td>\n      <td>221900.0</td>\n      <td>3</td>\n      <td>1.00</td>\n      <td>1180</td>\n      <td>5650</td>\n      <td>1.0</td>\n      <td>0</td>\n      <td>0</td>\n      <td>...</td>\n      <td>7</td>\n      <td>1180.0</td>\n      <td>0</td>\n      <td>1955</td>\n      <td>0</td>\n      <td>98178</td>\n      <td>47.5112</td>\n      <td>-122.257</td>\n      <td>1340</td>\n      <td>5650</td>\n    </tr>\n    <tr>\n      <th>1</th>\n      <td>6414100192</td>\n      <td>20141209T000000</td>\n      <td>538000.0</td>\n      <td>3</td>\n      <td>2.25</td>\n      <td>2570</td>\n      <td>7242</td>\n      <td>2.0</td>\n      <td>0</td>\n      <td>0</td>\n      <td>...</td>\n      <td>7</td>\n      <td>2170.0</td>\n      <td>400</td>\n      <td>1951</td>\n      <td>1991</td>\n      <td>98125</td>\n      <td>47.7210</td>\n      <td>-122.319</td>\n      <td>1690</td>\n      <td>7639</td>\n    </tr>\n    <tr>\n      <th>2</th>\n      <td>5631500400</td>\n      <td>20150225T000000</td>\n      <td>180000.0</td>\n      <td>2</td>\n      <td>1.00</td>\n      <td>770</td>\n      <td>10000</td>\n      <td>1.0</td>\n      <td>0</td>\n      <td>0</td>\n      <td>...</td>\n      <td>6</td>\n      <td>770.0</td>\n      <td>0</td>\n      <td>1933</td>\n      <td>0</td>\n      <td>98028</td>\n      <td>47.7379</td>\n      <td>-122.233</td>\n      <td>2720</td>\n      <td>8062</td>\n    </tr>\n    <tr>\n      <th>3</th>\n      <td>2487200875</td>\n      <td>20141209T000000</td>\n      <td>604000.0</td>\n      <td>4</td>\n      <td>3.00</td>\n      <td>1960</td>\n      <td>5000</td>\n      <td>1.0</td>\n      <td>0</td>\n      <td>0</td>\n      <td>...</td>\n      <td>7</td>\n      <td>1050.0</td>\n      <td>910</td>\n      <td>1965</td>\n      <td>0</td>\n      <td>98136</td>\n      <td>47.5208</td>\n      <td>-122.393</td>\n      <td>1360</td>\n      <td>5000</td>\n    </tr>\n    <tr>\n      <th>4</th>\n      <td>1954400510</td>\n      <td>20150218T000000</td>\n      <td>510000.0</td>\n      <td>3</td>\n      <td>2.00</td>\n      <td>1680</td>\n      <td>8080</td>\n      <td>1.0</td>\n      <td>0</td>\n      <td>0</td>\n      <td>...</td>\n      <td>8</td>\n      <td>1680.0</td>\n      <td>0</td>\n      <td>1987</td>\n      <td>0</td>\n      <td>98074</td>\n      <td>47.6168</td>\n      <td>-122.045</td>\n      <td>1800</td>\n      <td>7503</td>\n    </tr>\n  </tbody>\n</table>\n<p>5 rows × 21 columns</p>\n</div>"
          },
          "metadata": {}
        }
      ]
    },
    {
      "cell_type": "code",
      "source": "df.info()",
      "metadata": {
        "trusted": true
      },
      "execution_count": 7,
      "outputs": [
        {
          "name": "stdout",
          "text": "<class 'pandas.core.frame.DataFrame'>\nRangeIndex: 21613 entries, 0 to 21612\nData columns (total 21 columns):\n #   Column         Non-Null Count  Dtype  \n---  ------         --------------  -----  \n 0   id             21613 non-null  int64  \n 1   date           21613 non-null  object \n 2   price          21613 non-null  float64\n 3   bedrooms       21613 non-null  int64  \n 4   bathrooms      21613 non-null  float64\n 5   sqft_living    21613 non-null  int64  \n 6   sqft_lot       21613 non-null  int64  \n 7   floors         21613 non-null  float64\n 8   waterfront     21613 non-null  int64  \n 9   view           21613 non-null  int64  \n 10  condition      21613 non-null  int64  \n 11  grade          21613 non-null  int64  \n 12  sqft_above     21611 non-null  float64\n 13  sqft_basement  21613 non-null  int64  \n 14  yr_built       21613 non-null  int64  \n 15  yr_renovated   21613 non-null  int64  \n 16  zipcode        21613 non-null  int64  \n 17  lat            21613 non-null  float64\n 18  long           21613 non-null  float64\n 19  sqft_living15  21613 non-null  int64  \n 20  sqft_lot15     21613 non-null  int64  \ndtypes: float64(6), int64(14), object(1)\nmemory usage: 3.4+ MB\n",
          "output_type": "stream"
        }
      ]
    },
    {
      "cell_type": "markdown",
      "source": "##  2 задача\n### Проведите первичный анализ данных\n### Изучите типы данных\n### Найдите количество пропущенных ячеек в данных\n### Посчитайте основные статистики по всем признакам и поизучайте их\n### Пишите выводы",
      "metadata": {}
    },
    {
      "cell_type": "code",
      "source": "df.describe()",
      "metadata": {
        "trusted": true
      },
      "execution_count": 9,
      "outputs": [
        {
          "execution_count": 9,
          "output_type": "execute_result",
          "data": {
            "text/plain": "                 id         price      bedrooms     bathrooms   sqft_living  \\\ncount  2.161300e+04  2.161300e+04  21613.000000  21613.000000  21613.000000   \nmean   4.580302e+09  5.400881e+05      3.370842      2.114757   2079.899736   \nstd    2.876566e+09  3.671272e+05      0.930062      0.770163    918.440897   \nmin    1.000102e+06  7.500000e+04      0.000000      0.000000    290.000000   \n25%    2.123049e+09  3.219500e+05      3.000000      1.750000   1427.000000   \n50%    3.904930e+09  4.500000e+05      3.000000      2.250000   1910.000000   \n75%    7.308900e+09  6.450000e+05      4.000000      2.500000   2550.000000   \nmax    9.900000e+09  7.700000e+06     33.000000      8.000000  13540.000000   \n\n           sqft_lot        floors    waterfront          view     condition  \\\ncount  2.161300e+04  21613.000000  21613.000000  21613.000000  21613.000000   \nmean   1.510697e+04      1.494309      0.007542      0.234303      3.409430   \nstd    4.142051e+04      0.539989      0.086517      0.766318      0.650743   \nmin    5.200000e+02      1.000000      0.000000      0.000000      1.000000   \n25%    5.040000e+03      1.000000      0.000000      0.000000      3.000000   \n50%    7.618000e+03      1.500000      0.000000      0.000000      3.000000   \n75%    1.068800e+04      2.000000      0.000000      0.000000      4.000000   \nmax    1.651359e+06      3.500000      1.000000      4.000000      5.000000   \n\n              grade    sqft_above  sqft_basement      yr_built  yr_renovated  \\\ncount  21613.000000  21611.000000   21613.000000  21613.000000  21613.000000   \nmean       7.656873   1788.396095     291.509045   1971.005136     84.402258   \nstd        1.175459    828.128162     442.575043     29.373411    401.679240   \nmin        1.000000    290.000000       0.000000   1900.000000      0.000000   \n25%        7.000000   1190.000000       0.000000   1951.000000      0.000000   \n50%        7.000000   1560.000000       0.000000   1975.000000      0.000000   \n75%        8.000000   2210.000000     560.000000   1997.000000      0.000000   \nmax       13.000000   9410.000000    4820.000000   2015.000000   2015.000000   \n\n            zipcode           lat          long  sqft_living15     sqft_lot15  \ncount  21613.000000  21613.000000  21613.000000   21613.000000   21613.000000  \nmean   98077.939805     47.560053   -122.213896    1986.552492   12768.455652  \nstd       53.505026      0.138564      0.140828     685.391304   27304.179631  \nmin    98001.000000     47.155900   -122.519000     399.000000     651.000000  \n25%    98033.000000     47.471000   -122.328000    1490.000000    5100.000000  \n50%    98065.000000     47.571800   -122.230000    1840.000000    7620.000000  \n75%    98118.000000     47.678000   -122.125000    2360.000000   10083.000000  \nmax    98199.000000     47.777600   -121.315000    6210.000000  871200.000000  ",
            "text/html": "<div>\n<style scoped>\n    .dataframe tbody tr th:only-of-type {\n        vertical-align: middle;\n    }\n\n    .dataframe tbody tr th {\n        vertical-align: top;\n    }\n\n    .dataframe thead th {\n        text-align: right;\n    }\n</style>\n<table border=\"1\" class=\"dataframe\">\n  <thead>\n    <tr style=\"text-align: right;\">\n      <th></th>\n      <th>id</th>\n      <th>price</th>\n      <th>bedrooms</th>\n      <th>bathrooms</th>\n      <th>sqft_living</th>\n      <th>sqft_lot</th>\n      <th>floors</th>\n      <th>waterfront</th>\n      <th>view</th>\n      <th>condition</th>\n      <th>grade</th>\n      <th>sqft_above</th>\n      <th>sqft_basement</th>\n      <th>yr_built</th>\n      <th>yr_renovated</th>\n      <th>zipcode</th>\n      <th>lat</th>\n      <th>long</th>\n      <th>sqft_living15</th>\n      <th>sqft_lot15</th>\n    </tr>\n  </thead>\n  <tbody>\n    <tr>\n      <th>count</th>\n      <td>2.161300e+04</td>\n      <td>2.161300e+04</td>\n      <td>21613.000000</td>\n      <td>21613.000000</td>\n      <td>21613.000000</td>\n      <td>2.161300e+04</td>\n      <td>21613.000000</td>\n      <td>21613.000000</td>\n      <td>21613.000000</td>\n      <td>21613.000000</td>\n      <td>21613.000000</td>\n      <td>21611.000000</td>\n      <td>21613.000000</td>\n      <td>21613.000000</td>\n      <td>21613.000000</td>\n      <td>21613.000000</td>\n      <td>21613.000000</td>\n      <td>21613.000000</td>\n      <td>21613.000000</td>\n      <td>21613.000000</td>\n    </tr>\n    <tr>\n      <th>mean</th>\n      <td>4.580302e+09</td>\n      <td>5.400881e+05</td>\n      <td>3.370842</td>\n      <td>2.114757</td>\n      <td>2079.899736</td>\n      <td>1.510697e+04</td>\n      <td>1.494309</td>\n      <td>0.007542</td>\n      <td>0.234303</td>\n      <td>3.409430</td>\n      <td>7.656873</td>\n      <td>1788.396095</td>\n      <td>291.509045</td>\n      <td>1971.005136</td>\n      <td>84.402258</td>\n      <td>98077.939805</td>\n      <td>47.560053</td>\n      <td>-122.213896</td>\n      <td>1986.552492</td>\n      <td>12768.455652</td>\n    </tr>\n    <tr>\n      <th>std</th>\n      <td>2.876566e+09</td>\n      <td>3.671272e+05</td>\n      <td>0.930062</td>\n      <td>0.770163</td>\n      <td>918.440897</td>\n      <td>4.142051e+04</td>\n      <td>0.539989</td>\n      <td>0.086517</td>\n      <td>0.766318</td>\n      <td>0.650743</td>\n      <td>1.175459</td>\n      <td>828.128162</td>\n      <td>442.575043</td>\n      <td>29.373411</td>\n      <td>401.679240</td>\n      <td>53.505026</td>\n      <td>0.138564</td>\n      <td>0.140828</td>\n      <td>685.391304</td>\n      <td>27304.179631</td>\n    </tr>\n    <tr>\n      <th>min</th>\n      <td>1.000102e+06</td>\n      <td>7.500000e+04</td>\n      <td>0.000000</td>\n      <td>0.000000</td>\n      <td>290.000000</td>\n      <td>5.200000e+02</td>\n      <td>1.000000</td>\n      <td>0.000000</td>\n      <td>0.000000</td>\n      <td>1.000000</td>\n      <td>1.000000</td>\n      <td>290.000000</td>\n      <td>0.000000</td>\n      <td>1900.000000</td>\n      <td>0.000000</td>\n      <td>98001.000000</td>\n      <td>47.155900</td>\n      <td>-122.519000</td>\n      <td>399.000000</td>\n      <td>651.000000</td>\n    </tr>\n    <tr>\n      <th>25%</th>\n      <td>2.123049e+09</td>\n      <td>3.219500e+05</td>\n      <td>3.000000</td>\n      <td>1.750000</td>\n      <td>1427.000000</td>\n      <td>5.040000e+03</td>\n      <td>1.000000</td>\n      <td>0.000000</td>\n      <td>0.000000</td>\n      <td>3.000000</td>\n      <td>7.000000</td>\n      <td>1190.000000</td>\n      <td>0.000000</td>\n      <td>1951.000000</td>\n      <td>0.000000</td>\n      <td>98033.000000</td>\n      <td>47.471000</td>\n      <td>-122.328000</td>\n      <td>1490.000000</td>\n      <td>5100.000000</td>\n    </tr>\n    <tr>\n      <th>50%</th>\n      <td>3.904930e+09</td>\n      <td>4.500000e+05</td>\n      <td>3.000000</td>\n      <td>2.250000</td>\n      <td>1910.000000</td>\n      <td>7.618000e+03</td>\n      <td>1.500000</td>\n      <td>0.000000</td>\n      <td>0.000000</td>\n      <td>3.000000</td>\n      <td>7.000000</td>\n      <td>1560.000000</td>\n      <td>0.000000</td>\n      <td>1975.000000</td>\n      <td>0.000000</td>\n      <td>98065.000000</td>\n      <td>47.571800</td>\n      <td>-122.230000</td>\n      <td>1840.000000</td>\n      <td>7620.000000</td>\n    </tr>\n    <tr>\n      <th>75%</th>\n      <td>7.308900e+09</td>\n      <td>6.450000e+05</td>\n      <td>4.000000</td>\n      <td>2.500000</td>\n      <td>2550.000000</td>\n      <td>1.068800e+04</td>\n      <td>2.000000</td>\n      <td>0.000000</td>\n      <td>0.000000</td>\n      <td>4.000000</td>\n      <td>8.000000</td>\n      <td>2210.000000</td>\n      <td>560.000000</td>\n      <td>1997.000000</td>\n      <td>0.000000</td>\n      <td>98118.000000</td>\n      <td>47.678000</td>\n      <td>-122.125000</td>\n      <td>2360.000000</td>\n      <td>10083.000000</td>\n    </tr>\n    <tr>\n      <th>max</th>\n      <td>9.900000e+09</td>\n      <td>7.700000e+06</td>\n      <td>33.000000</td>\n      <td>8.000000</td>\n      <td>13540.000000</td>\n      <td>1.651359e+06</td>\n      <td>3.500000</td>\n      <td>1.000000</td>\n      <td>4.000000</td>\n      <td>5.000000</td>\n      <td>13.000000</td>\n      <td>9410.000000</td>\n      <td>4820.000000</td>\n      <td>2015.000000</td>\n      <td>2015.000000</td>\n      <td>98199.000000</td>\n      <td>47.777600</td>\n      <td>-121.315000</td>\n      <td>6210.000000</td>\n      <td>871200.000000</td>\n    </tr>\n  </tbody>\n</table>\n</div>"
          },
          "metadata": {}
        }
      ]
    },
    {
      "cell_type": "markdown",
      "source": "В таблице 21613 строчка и 21 колонка, представленные типы данных - float64(6), int64(14), object(1).В таблице с описанием представлены минимальные и максимальные значения, а также квантили. ",
      "metadata": {}
    },
    {
      "cell_type": "markdown",
      "source": "## 3 задача\n### Ответьте на несколько вопросов\n### 3.1 В каком диапазоне изменяются стоимости недвижимости?\n### 3.2 Какую долю в среднем занимают жилая площадь от всей площади по всем домам?\n### 3.3 Как много домов с разными этажами в данных?\n### 3.4 Насколько хорошие состояния у домов в данных?\n### 3.5 Найдите года, когда построили первый дом, когда построили последний дом в данных?",
      "metadata": {}
    },
    {
      "cell_type": "code",
      "source": "{df['price'].min(),df['price'].max()}",
      "metadata": {
        "trusted": true
      },
      "execution_count": 15,
      "outputs": [
        {
          "execution_count": 15,
          "output_type": "execute_result",
          "data": {
            "text/plain": "{75000.0, 7700000.0}"
          },
          "metadata": {}
        }
      ]
    },
    {
      "cell_type": "code",
      "source": "df['sqft_living'].sum()/df['sqft_lot'].sum()",
      "metadata": {
        "trusted": true
      },
      "execution_count": 18,
      "outputs": [
        {
          "execution_count": 18,
          "output_type": "execute_result",
          "data": {
            "text/plain": "0.1376781757959227"
          },
          "metadata": {}
        }
      ]
    },
    {
      "cell_type": "code",
      "source": "df['floors'].nunique()",
      "metadata": {
        "trusted": true
      },
      "execution_count": 20,
      "outputs": [
        {
          "execution_count": 20,
          "output_type": "execute_result",
          "data": {
            "text/plain": "6"
          },
          "metadata": {}
        }
      ]
    },
    {
      "cell_type": "code",
      "source": "df['condition'].value_counts(normalize=True)",
      "metadata": {
        "trusted": true
      },
      "execution_count": 72,
      "outputs": [
        {
          "execution_count": 72,
          "output_type": "execute_result",
          "data": {
            "text/plain": "3    0.649193\n4    0.262759\n5    0.078703\n2    0.007958\n1    0.001388\nName: condition, dtype: float64"
          },
          "metadata": {}
        }
      ]
    },
    {
      "cell_type": "code",
      "source": " {df['yr_built'].min(),df['yr_built'].max()}",
      "metadata": {
        "trusted": true
      },
      "execution_count": 22,
      "outputs": [
        {
          "execution_count": 22,
          "output_type": "execute_result",
          "data": {
            "text/plain": "{1900, 2015}"
          },
          "metadata": {}
        }
      ]
    },
    {
      "cell_type": "markdown",
      "source": "## 4 задача\n### Ответьте на несколько вопросов\n\n### 4.1 Сколько в среднем стоят дома, у которых 2 спальни?\n### 4.2 Какая в среднем общая площадь домов, у которых стоимость больше 600 000?\n### 4.3 Как много домов коснулся ремонт?\n### 4.4 Насколько в среднем стоимость домов с оценкой grade домов выше 10 отличается от стоимости домов с оценкой grade меньше 4?",
      "metadata": {}
    },
    {
      "cell_type": "code",
      "source": "df[df['bedrooms'] == 2]['price'].mean()",
      "metadata": {
        "trusted": true
      },
      "execution_count": 45,
      "outputs": [
        {
          "execution_count": 45,
          "output_type": "execute_result",
          "data": {
            "text/plain": "401372.681884058"
          },
          "metadata": {}
        }
      ]
    },
    {
      "cell_type": "code",
      "source": "df[df['price'] >= 600000]['sqft_lot'].mean()",
      "metadata": {
        "trusted": true
      },
      "execution_count": 47,
      "outputs": [
        {
          "execution_count": 47,
          "output_type": "execute_result",
          "data": {
            "text/plain": "20454.783537543197"
          },
          "metadata": {}
        }
      ]
    },
    {
      "cell_type": "code",
      "source": "len(df[df['yr_renovated'] > 0])",
      "metadata": {
        "trusted": true
      },
      "execution_count": 58,
      "outputs": [
        {
          "execution_count": 58,
          "output_type": "execute_result",
          "data": {
            "text/plain": "914"
          },
          "metadata": {}
        }
      ]
    },
    {
      "cell_type": "code",
      "source": "df[df['grade'] > 10]['price'].sum()/df[df['grade'] < 4]['price'].sum()",
      "metadata": {
        "trusted": true
      },
      "execution_count": 68,
      "outputs": [
        {
          "execution_count": 68,
          "output_type": "execute_result",
          "data": {
            "text/plain": "1110.2435164690382"
          },
          "metadata": {}
        }
      ]
    },
    {
      "cell_type": "code",
      "source": "df[df['grade'] > 10]['price'].sum()",
      "metadata": {
        "trusted": true
      },
      "execution_count": 69,
      "outputs": [
        {
          "execution_count": 69,
          "output_type": "execute_result",
          "data": {
            "text/plain": "842674829.0"
          },
          "metadata": {}
        }
      ]
    },
    {
      "cell_type": "code",
      "source": "df[df['grade'] < 4]['price'].sum()",
      "metadata": {
        "trusted": true
      },
      "execution_count": 70,
      "outputs": [
        {
          "execution_count": 70,
          "output_type": "execute_result",
          "data": {
            "text/plain": "759000.0"
          },
          "metadata": {}
        }
      ]
    },
    {
      "cell_type": "markdown",
      "source": "## 5 задача\n### Ответьте на несколько вопросов\n### 5.1 Выберите дом клиенту\n### Клиент хочет дом с видом на набережную, как минимум с тремя ванными и с подвалом. Сколько вариантов есть у клиента?\n### 5.2 Выберите дом клиенту\n### Клиент хочет дом либо с очень красивым видом из окна, либо с видом на набережную, в очень хорошем состоянии и год постройки не меньше 1980 года. В ### какой ценовом диапазоне будут дома?\n### 5.3 Выберите дом клиенту\n### Клиент хочет дом без подвала, с двумя этажами, стоимостью до 150000. Какая оценка по состоянию у таких домов в среднем?",
      "metadata": {}
    },
    {
      "cell_type": "code",
      "source": "df[(df['waterfront'] == 1) & (df['bathrooms'] >= 3) & (df['sqft_basement'] > 0)]",
      "metadata": {
        "trusted": true
      },
      "execution_count": 81,
      "outputs": [
        {
          "execution_count": 81,
          "output_type": "execute_result",
          "data": {
            "text/plain": "               id             date      price  bedrooms  bathrooms  \\\n300    3225069065  20140624T000000  3075000.0         4       5.00   \n457    2122039094  20141126T000000   705000.0         3       3.00   \n1164   1247600105  20141020T000000  5110800.0         5       5.25   \n1261   7636800041  20140625T000000   995000.0         3       4.50   \n1315   7558700030  20150413T000000  5300000.0         6       6.00   \n1361   1925069082  20150511T000000  2200000.0         5       4.25   \n2626   7738500731  20140815T000000  4500000.0         5       5.50   \n2864   4114601570  20141118T000000  3600000.0         3       3.25   \n3914   9808700762  20140611T000000  7062500.0         5       4.50   \n3934   1269200229  20140723T000000  1379900.0         3       3.25   \n5760    623059016  20140717T000000  1100000.0         4       3.25   \n6233   2024069008  20140619T000000  2200000.0         5       4.75   \n6508   4217402115  20150421T000000  3650000.0         6       4.75   \n7989   9362000040  20140623T000000  3400000.0         3       4.50   \n8092   1924059029  20140617T000000  4668000.0         5       6.75   \n8163   1724069079  20150319T000000  1452000.0         2       3.25   \n8784   3343302110  20150306T000000  1800000.0         3       3.00   \n10263   625059036  20140813T000000  2700000.0         5       4.00   \n11257  3761100045  20140618T000000  3000000.0         4       4.25   \n11402  3426049284  20140819T000000  2300000.0         4       3.25   \n11424  5119400075  20140620T000000   950000.0         3       3.25   \n11446   624069035  20141209T000000  2750000.0         4       4.00   \n11844  2623039082  20150218T000000   770000.0         3       3.50   \n12459  4114601580  20140724T000000  1900000.0         6       4.00   \n12935  3222049044  20140612T000000   835000.0         3       3.00   \n13710  2923500230  20141216T000000  2600000.0         4       4.50   \n13967  3126059023  20150303T000000  3395000.0         4       3.50   \n14083  3625059043  20140904T000000  3300000.0         5       4.75   \n14619  7936500109  20140725T000000  2230000.0         3       3.00   \n14822  3623500408  20150330T000000  2600000.0         3       3.00   \n15482   624069108  20140812T000000  3200000.0         4       3.25   \n15668  4030100290  20141001T000000  1680000.0         5       3.50   \n16817   825059178  20140923T000000  2574000.0         4       3.75   \n17767  7352200450  20150115T000000  2050000.0         4       3.25   \n18199  3625059152  20141230T000000  3300000.0         3       3.25   \n18455  8043700300  20140608T000000  2700000.0         4       3.25   \n18556  6613000930  20140902T000000  2950000.0         4       3.25   \n20325   518500480  20140811T000000  3000000.0         3       3.50   \n20767  8043700105  20150417T000000  2300000.0         4       4.00   \n21201   518500460  20141008T000000  2230000.0         3       3.50   \n21576  9253900271  20150107T000000  3567000.0         5       4.50   \n\n       sqft_living  sqft_lot  floors  waterfront  view  ...  grade  \\\n300           4550     18641     1.0           1     4  ...     10   \n457           1970     20978     2.0           1     3  ...      9   \n1164          8010     45517     2.0           1     4  ...     12   \n1261          4380     47044     2.0           1     3  ...      9   \n1315          7390     24829     2.0           1     4  ...     12   \n1361          4640     22703     2.0           1     4  ...      8   \n2626          6640     40014     2.0           1     4  ...     12   \n2864          5020     12431     2.0           1     4  ...     10   \n3914         10040     37325     2.0           1     2  ...     11   \n3934          3786     38038     1.0           1     4  ...      9   \n5760          3190     11774     2.0           1     4  ...      8   \n6233          5990     10450     2.0           1     4  ...     11   \n6508          5480     19401     1.5           1     4  ...     11   \n7989          5230     17826     2.0           1     4  ...     10   \n8092          9640     13068     1.0           1     4  ...     12   \n8163          2070      3128     2.0           1     3  ...      9   \n8784          2790     13295     2.0           1     4  ...     10   \n10263         4230     27295     2.0           1     4  ...      8   \n11257         4850     12445     2.0           1     4  ...     10   \n11402         4110     15929     2.0           1     4  ...     12   \n11424         3050     18892     1.0           1     4  ...      8   \n11446         4130      5575     2.0           1     4  ...     10   \n11844         2050     21744     2.0           1     4  ...      9   \n12459         3020     13237     2.0           1     4  ...      8   \n12935         2790     12523     2.0           1     4  ...      8   \n13710         5270     12195     2.0           1     4  ...     11   \n13967         4730     47870     1.0           1     4  ...     10   \n14083         6200     13873     2.0           1     4  ...     11   \n14619         3620     28064     2.0           1     4  ...     10   \n14822         3410     16015     2.0           1     4  ...     10   \n15482         7000     28206     1.0           1     4  ...     12   \n15668         5170      7197     3.0           1     4  ...     11   \n16817         4475     20424     2.0           1     4  ...     12   \n17767         3580     19989     1.5           1     4  ...      7   \n18199         4220     41300     1.0           1     4  ...     11   \n18455         4420      7850     2.0           1     4  ...     11   \n18556         3890     25470     2.0           1     3  ...     10   \n20325         4410     10756     2.0           1     4  ...     11   \n20767         4360      8175     2.5           1     4  ...     10   \n21201         3760      5634     2.0           1     4  ...     11   \n21576         4850     10584     2.0           1     4  ...     10   \n\n       sqft_above  sqft_basement  yr_built  yr_renovated  zipcode      lat  \\\n300        2600.0           1950      2002             0    98074  47.6053   \n457        1770.0            200      1980             0    98070  47.3844   \n1164       5990.0           2020      1999             0    98033  47.6767   \n1261       3720.0            660      1968          1990    98166  47.4734   \n1315       5000.0           2390      1991             0    98040  47.5631   \n1361       2860.0           1780      1952             0    98052  47.6393   \n2626       6350.0            290      2004             0    98155  47.7493   \n2864       3420.0           1600      1941          2002    98144  47.5925   \n3914       7680.0           2360      1940          2001    98004  47.6500   \n3934       1934.0           1852      1978          2006    98070  47.3907   \n5760       2610.0            580      1956          1991    98178  47.5033   \n6233       4050.0           1940      2002             0    98027  47.5554   \n6508       3910.0           1570      1936             0    98105  47.6515   \n7989       3740.0           1490      2005             0    98040  47.5348   \n8092       4820.0           4820      1983          2009    98040  47.5570   \n8163       1760.0            310      1988             0    98075  47.5686   \n8784       2370.0            420      1933          1989    98006  47.5466   \n10263      3230.0           1000      1949          1985    98033  47.6803   \n11257      3850.0           1000      1989             0    98034  47.7011   \n11402      2720.0           1390      2001             0    98115  47.6934   \n11424      1650.0           1400      1962             0    98198  47.3881   \n11446      2860.0           1270      1993             0    98075  47.5968   \n11844      1750.0            300      1930             0    98166  47.4536   \n12459      2840.0            180      1942          1983    98144  47.5924   \n12935      1600.0           1190      1977             0    98198  47.3571   \n13710      3400.0           1870      1979             0    98027  47.5696   \n13967      2940.0           1790      1954             0    98033  47.6967   \n14083      4440.0           1760      1989             0    98008  47.6050   \n14619      2370.0           1250      1977             0    98136  47.5516   \n14822      2220.0           1190      1973             0    98040  47.5721   \n15482      3500.0           3500      1991             0    98075  47.5928   \n15668      3520.0           1650      1998             0    98155  47.7561   \n16817      2659.0           1816      1999             0    98033  47.6646   \n17767      3480.0            100      1915          1965    98125  47.7087   \n18199      2460.0           1760      1958          1987    98008  47.6083   \n18455      3150.0           1270      2001             0    98008  47.5720   \n18556      3030.0            860      1923             0    98105  47.6608   \n20325      3430.0            980      2014             0    98056  47.5283   \n20767      3940.0            420      2007             0    98008  47.5724   \n21201      2830.0            930      2014             0    98056  47.5285   \n21576      3540.0           1310      2007             0    98008  47.5943   \n\n          long  sqft_living15  sqft_lot15  \n300   -122.077           4550       19508  \n457   -122.438           2280       75396  \n1164  -122.211           3430       26788  \n1261  -122.365           2460       18512  \n1315  -122.210           4320       24619  \n1361  -122.097           3140       14200  \n2626  -122.280           3030       23408  \n2864  -122.287           3680       12620  \n3914  -122.214           3930       25449  \n3934  -122.448           2850       33361  \n5760  -122.225           2240        8725  \n6233  -122.077           3330       14810  \n6508  -122.277           3510       15810  \n7989  -122.243           3670       17826  \n8092  -122.210           3270       10454  \n8163  -122.060           2740        3568  \n8784  -122.197           3140       11949  \n10263 -122.214           2660       27295  \n11257 -122.244           3350       12210  \n11402 -122.271           2640       15929  \n11424 -122.326           1170       70973  \n11446 -122.083           2980        5575  \n11844 -122.376           2300       12200  \n12459 -122.287           3680       12620  \n12935 -122.324           2990       11476  \n13710 -122.090           3390        9905  \n13967 -122.216           3250       49346  \n14083 -122.112           2940       13525  \n14619 -122.398           2550       34713  \n14822 -122.239           3760       16572  \n15482 -122.086           4913       14663  \n15668 -122.271           3020       12880  \n16817 -122.208           4340        5250  \n17767 -122.276           2410        6389  \n18199 -122.110           3810       30401  \n18455 -122.102           2760        8525  \n18556 -122.269           4140       19281  \n20325 -122.205           3550        5634  \n20767 -122.104           2670        8525  \n21201 -122.205           3560        5762  \n21576 -122.110           3470       18270  \n\n[41 rows x 21 columns]",
            "text/html": "<div>\n<style scoped>\n    .dataframe tbody tr th:only-of-type {\n        vertical-align: middle;\n    }\n\n    .dataframe tbody tr th {\n        vertical-align: top;\n    }\n\n    .dataframe thead th {\n        text-align: right;\n    }\n</style>\n<table border=\"1\" class=\"dataframe\">\n  <thead>\n    <tr style=\"text-align: right;\">\n      <th></th>\n      <th>id</th>\n      <th>date</th>\n      <th>price</th>\n      <th>bedrooms</th>\n      <th>bathrooms</th>\n      <th>sqft_living</th>\n      <th>sqft_lot</th>\n      <th>floors</th>\n      <th>waterfront</th>\n      <th>view</th>\n      <th>...</th>\n      <th>grade</th>\n      <th>sqft_above</th>\n      <th>sqft_basement</th>\n      <th>yr_built</th>\n      <th>yr_renovated</th>\n      <th>zipcode</th>\n      <th>lat</th>\n      <th>long</th>\n      <th>sqft_living15</th>\n      <th>sqft_lot15</th>\n    </tr>\n  </thead>\n  <tbody>\n    <tr>\n      <th>300</th>\n      <td>3225069065</td>\n      <td>20140624T000000</td>\n      <td>3075000.0</td>\n      <td>4</td>\n      <td>5.00</td>\n      <td>4550</td>\n      <td>18641</td>\n      <td>1.0</td>\n      <td>1</td>\n      <td>4</td>\n      <td>...</td>\n      <td>10</td>\n      <td>2600.0</td>\n      <td>1950</td>\n      <td>2002</td>\n      <td>0</td>\n      <td>98074</td>\n      <td>47.6053</td>\n      <td>-122.077</td>\n      <td>4550</td>\n      <td>19508</td>\n    </tr>\n    <tr>\n      <th>457</th>\n      <td>2122039094</td>\n      <td>20141126T000000</td>\n      <td>705000.0</td>\n      <td>3</td>\n      <td>3.00</td>\n      <td>1970</td>\n      <td>20978</td>\n      <td>2.0</td>\n      <td>1</td>\n      <td>3</td>\n      <td>...</td>\n      <td>9</td>\n      <td>1770.0</td>\n      <td>200</td>\n      <td>1980</td>\n      <td>0</td>\n      <td>98070</td>\n      <td>47.3844</td>\n      <td>-122.438</td>\n      <td>2280</td>\n      <td>75396</td>\n    </tr>\n    <tr>\n      <th>1164</th>\n      <td>1247600105</td>\n      <td>20141020T000000</td>\n      <td>5110800.0</td>\n      <td>5</td>\n      <td>5.25</td>\n      <td>8010</td>\n      <td>45517</td>\n      <td>2.0</td>\n      <td>1</td>\n      <td>4</td>\n      <td>...</td>\n      <td>12</td>\n      <td>5990.0</td>\n      <td>2020</td>\n      <td>1999</td>\n      <td>0</td>\n      <td>98033</td>\n      <td>47.6767</td>\n      <td>-122.211</td>\n      <td>3430</td>\n      <td>26788</td>\n    </tr>\n    <tr>\n      <th>1261</th>\n      <td>7636800041</td>\n      <td>20140625T000000</td>\n      <td>995000.0</td>\n      <td>3</td>\n      <td>4.50</td>\n      <td>4380</td>\n      <td>47044</td>\n      <td>2.0</td>\n      <td>1</td>\n      <td>3</td>\n      <td>...</td>\n      <td>9</td>\n      <td>3720.0</td>\n      <td>660</td>\n      <td>1968</td>\n      <td>1990</td>\n      <td>98166</td>\n      <td>47.4734</td>\n      <td>-122.365</td>\n      <td>2460</td>\n      <td>18512</td>\n    </tr>\n    <tr>\n      <th>1315</th>\n      <td>7558700030</td>\n      <td>20150413T000000</td>\n      <td>5300000.0</td>\n      <td>6</td>\n      <td>6.00</td>\n      <td>7390</td>\n      <td>24829</td>\n      <td>2.0</td>\n      <td>1</td>\n      <td>4</td>\n      <td>...</td>\n      <td>12</td>\n      <td>5000.0</td>\n      <td>2390</td>\n      <td>1991</td>\n      <td>0</td>\n      <td>98040</td>\n      <td>47.5631</td>\n      <td>-122.210</td>\n      <td>4320</td>\n      <td>24619</td>\n    </tr>\n    <tr>\n      <th>1361</th>\n      <td>1925069082</td>\n      <td>20150511T000000</td>\n      <td>2200000.0</td>\n      <td>5</td>\n      <td>4.25</td>\n      <td>4640</td>\n      <td>22703</td>\n      <td>2.0</td>\n      <td>1</td>\n      <td>4</td>\n      <td>...</td>\n      <td>8</td>\n      <td>2860.0</td>\n      <td>1780</td>\n      <td>1952</td>\n      <td>0</td>\n      <td>98052</td>\n      <td>47.6393</td>\n      <td>-122.097</td>\n      <td>3140</td>\n      <td>14200</td>\n    </tr>\n    <tr>\n      <th>2626</th>\n      <td>7738500731</td>\n      <td>20140815T000000</td>\n      <td>4500000.0</td>\n      <td>5</td>\n      <td>5.50</td>\n      <td>6640</td>\n      <td>40014</td>\n      <td>2.0</td>\n      <td>1</td>\n      <td>4</td>\n      <td>...</td>\n      <td>12</td>\n      <td>6350.0</td>\n      <td>290</td>\n      <td>2004</td>\n      <td>0</td>\n      <td>98155</td>\n      <td>47.7493</td>\n      <td>-122.280</td>\n      <td>3030</td>\n      <td>23408</td>\n    </tr>\n    <tr>\n      <th>2864</th>\n      <td>4114601570</td>\n      <td>20141118T000000</td>\n      <td>3600000.0</td>\n      <td>3</td>\n      <td>3.25</td>\n      <td>5020</td>\n      <td>12431</td>\n      <td>2.0</td>\n      <td>1</td>\n      <td>4</td>\n      <td>...</td>\n      <td>10</td>\n      <td>3420.0</td>\n      <td>1600</td>\n      <td>1941</td>\n      <td>2002</td>\n      <td>98144</td>\n      <td>47.5925</td>\n      <td>-122.287</td>\n      <td>3680</td>\n      <td>12620</td>\n    </tr>\n    <tr>\n      <th>3914</th>\n      <td>9808700762</td>\n      <td>20140611T000000</td>\n      <td>7062500.0</td>\n      <td>5</td>\n      <td>4.50</td>\n      <td>10040</td>\n      <td>37325</td>\n      <td>2.0</td>\n      <td>1</td>\n      <td>2</td>\n      <td>...</td>\n      <td>11</td>\n      <td>7680.0</td>\n      <td>2360</td>\n      <td>1940</td>\n      <td>2001</td>\n      <td>98004</td>\n      <td>47.6500</td>\n      <td>-122.214</td>\n      <td>3930</td>\n      <td>25449</td>\n    </tr>\n    <tr>\n      <th>3934</th>\n      <td>1269200229</td>\n      <td>20140723T000000</td>\n      <td>1379900.0</td>\n      <td>3</td>\n      <td>3.25</td>\n      <td>3786</td>\n      <td>38038</td>\n      <td>1.0</td>\n      <td>1</td>\n      <td>4</td>\n      <td>...</td>\n      <td>9</td>\n      <td>1934.0</td>\n      <td>1852</td>\n      <td>1978</td>\n      <td>2006</td>\n      <td>98070</td>\n      <td>47.3907</td>\n      <td>-122.448</td>\n      <td>2850</td>\n      <td>33361</td>\n    </tr>\n    <tr>\n      <th>5760</th>\n      <td>623059016</td>\n      <td>20140717T000000</td>\n      <td>1100000.0</td>\n      <td>4</td>\n      <td>3.25</td>\n      <td>3190</td>\n      <td>11774</td>\n      <td>2.0</td>\n      <td>1</td>\n      <td>4</td>\n      <td>...</td>\n      <td>8</td>\n      <td>2610.0</td>\n      <td>580</td>\n      <td>1956</td>\n      <td>1991</td>\n      <td>98178</td>\n      <td>47.5033</td>\n      <td>-122.225</td>\n      <td>2240</td>\n      <td>8725</td>\n    </tr>\n    <tr>\n      <th>6233</th>\n      <td>2024069008</td>\n      <td>20140619T000000</td>\n      <td>2200000.0</td>\n      <td>5</td>\n      <td>4.75</td>\n      <td>5990</td>\n      <td>10450</td>\n      <td>2.0</td>\n      <td>1</td>\n      <td>4</td>\n      <td>...</td>\n      <td>11</td>\n      <td>4050.0</td>\n      <td>1940</td>\n      <td>2002</td>\n      <td>0</td>\n      <td>98027</td>\n      <td>47.5554</td>\n      <td>-122.077</td>\n      <td>3330</td>\n      <td>14810</td>\n    </tr>\n    <tr>\n      <th>6508</th>\n      <td>4217402115</td>\n      <td>20150421T000000</td>\n      <td>3650000.0</td>\n      <td>6</td>\n      <td>4.75</td>\n      <td>5480</td>\n      <td>19401</td>\n      <td>1.5</td>\n      <td>1</td>\n      <td>4</td>\n      <td>...</td>\n      <td>11</td>\n      <td>3910.0</td>\n      <td>1570</td>\n      <td>1936</td>\n      <td>0</td>\n      <td>98105</td>\n      <td>47.6515</td>\n      <td>-122.277</td>\n      <td>3510</td>\n      <td>15810</td>\n    </tr>\n    <tr>\n      <th>7989</th>\n      <td>9362000040</td>\n      <td>20140623T000000</td>\n      <td>3400000.0</td>\n      <td>3</td>\n      <td>4.50</td>\n      <td>5230</td>\n      <td>17826</td>\n      <td>2.0</td>\n      <td>1</td>\n      <td>4</td>\n      <td>...</td>\n      <td>10</td>\n      <td>3740.0</td>\n      <td>1490</td>\n      <td>2005</td>\n      <td>0</td>\n      <td>98040</td>\n      <td>47.5348</td>\n      <td>-122.243</td>\n      <td>3670</td>\n      <td>17826</td>\n    </tr>\n    <tr>\n      <th>8092</th>\n      <td>1924059029</td>\n      <td>20140617T000000</td>\n      <td>4668000.0</td>\n      <td>5</td>\n      <td>6.75</td>\n      <td>9640</td>\n      <td>13068</td>\n      <td>1.0</td>\n      <td>1</td>\n      <td>4</td>\n      <td>...</td>\n      <td>12</td>\n      <td>4820.0</td>\n      <td>4820</td>\n      <td>1983</td>\n      <td>2009</td>\n      <td>98040</td>\n      <td>47.5570</td>\n      <td>-122.210</td>\n      <td>3270</td>\n      <td>10454</td>\n    </tr>\n    <tr>\n      <th>8163</th>\n      <td>1724069079</td>\n      <td>20150319T000000</td>\n      <td>1452000.0</td>\n      <td>2</td>\n      <td>3.25</td>\n      <td>2070</td>\n      <td>3128</td>\n      <td>2.0</td>\n      <td>1</td>\n      <td>3</td>\n      <td>...</td>\n      <td>9</td>\n      <td>1760.0</td>\n      <td>310</td>\n      <td>1988</td>\n      <td>0</td>\n      <td>98075</td>\n      <td>47.5686</td>\n      <td>-122.060</td>\n      <td>2740</td>\n      <td>3568</td>\n    </tr>\n    <tr>\n      <th>8784</th>\n      <td>3343302110</td>\n      <td>20150306T000000</td>\n      <td>1800000.0</td>\n      <td>3</td>\n      <td>3.00</td>\n      <td>2790</td>\n      <td>13295</td>\n      <td>2.0</td>\n      <td>1</td>\n      <td>4</td>\n      <td>...</td>\n      <td>10</td>\n      <td>2370.0</td>\n      <td>420</td>\n      <td>1933</td>\n      <td>1989</td>\n      <td>98006</td>\n      <td>47.5466</td>\n      <td>-122.197</td>\n      <td>3140</td>\n      <td>11949</td>\n    </tr>\n    <tr>\n      <th>10263</th>\n      <td>625059036</td>\n      <td>20140813T000000</td>\n      <td>2700000.0</td>\n      <td>5</td>\n      <td>4.00</td>\n      <td>4230</td>\n      <td>27295</td>\n      <td>2.0</td>\n      <td>1</td>\n      <td>4</td>\n      <td>...</td>\n      <td>8</td>\n      <td>3230.0</td>\n      <td>1000</td>\n      <td>1949</td>\n      <td>1985</td>\n      <td>98033</td>\n      <td>47.6803</td>\n      <td>-122.214</td>\n      <td>2660</td>\n      <td>27295</td>\n    </tr>\n    <tr>\n      <th>11257</th>\n      <td>3761100045</td>\n      <td>20140618T000000</td>\n      <td>3000000.0</td>\n      <td>4</td>\n      <td>4.25</td>\n      <td>4850</td>\n      <td>12445</td>\n      <td>2.0</td>\n      <td>1</td>\n      <td>4</td>\n      <td>...</td>\n      <td>10</td>\n      <td>3850.0</td>\n      <td>1000</td>\n      <td>1989</td>\n      <td>0</td>\n      <td>98034</td>\n      <td>47.7011</td>\n      <td>-122.244</td>\n      <td>3350</td>\n      <td>12210</td>\n    </tr>\n    <tr>\n      <th>11402</th>\n      <td>3426049284</td>\n      <td>20140819T000000</td>\n      <td>2300000.0</td>\n      <td>4</td>\n      <td>3.25</td>\n      <td>4110</td>\n      <td>15929</td>\n      <td>2.0</td>\n      <td>1</td>\n      <td>4</td>\n      <td>...</td>\n      <td>12</td>\n      <td>2720.0</td>\n      <td>1390</td>\n      <td>2001</td>\n      <td>0</td>\n      <td>98115</td>\n      <td>47.6934</td>\n      <td>-122.271</td>\n      <td>2640</td>\n      <td>15929</td>\n    </tr>\n    <tr>\n      <th>11424</th>\n      <td>5119400075</td>\n      <td>20140620T000000</td>\n      <td>950000.0</td>\n      <td>3</td>\n      <td>3.25</td>\n      <td>3050</td>\n      <td>18892</td>\n      <td>1.0</td>\n      <td>1</td>\n      <td>4</td>\n      <td>...</td>\n      <td>8</td>\n      <td>1650.0</td>\n      <td>1400</td>\n      <td>1962</td>\n      <td>0</td>\n      <td>98198</td>\n      <td>47.3881</td>\n      <td>-122.326</td>\n      <td>1170</td>\n      <td>70973</td>\n    </tr>\n    <tr>\n      <th>11446</th>\n      <td>624069035</td>\n      <td>20141209T000000</td>\n      <td>2750000.0</td>\n      <td>4</td>\n      <td>4.00</td>\n      <td>4130</td>\n      <td>5575</td>\n      <td>2.0</td>\n      <td>1</td>\n      <td>4</td>\n      <td>...</td>\n      <td>10</td>\n      <td>2860.0</td>\n      <td>1270</td>\n      <td>1993</td>\n      <td>0</td>\n      <td>98075</td>\n      <td>47.5968</td>\n      <td>-122.083</td>\n      <td>2980</td>\n      <td>5575</td>\n    </tr>\n    <tr>\n      <th>11844</th>\n      <td>2623039082</td>\n      <td>20150218T000000</td>\n      <td>770000.0</td>\n      <td>3</td>\n      <td>3.50</td>\n      <td>2050</td>\n      <td>21744</td>\n      <td>2.0</td>\n      <td>1</td>\n      <td>4</td>\n      <td>...</td>\n      <td>9</td>\n      <td>1750.0</td>\n      <td>300</td>\n      <td>1930</td>\n      <td>0</td>\n      <td>98166</td>\n      <td>47.4536</td>\n      <td>-122.376</td>\n      <td>2300</td>\n      <td>12200</td>\n    </tr>\n    <tr>\n      <th>12459</th>\n      <td>4114601580</td>\n      <td>20140724T000000</td>\n      <td>1900000.0</td>\n      <td>6</td>\n      <td>4.00</td>\n      <td>3020</td>\n      <td>13237</td>\n      <td>2.0</td>\n      <td>1</td>\n      <td>4</td>\n      <td>...</td>\n      <td>8</td>\n      <td>2840.0</td>\n      <td>180</td>\n      <td>1942</td>\n      <td>1983</td>\n      <td>98144</td>\n      <td>47.5924</td>\n      <td>-122.287</td>\n      <td>3680</td>\n      <td>12620</td>\n    </tr>\n    <tr>\n      <th>12935</th>\n      <td>3222049044</td>\n      <td>20140612T000000</td>\n      <td>835000.0</td>\n      <td>3</td>\n      <td>3.00</td>\n      <td>2790</td>\n      <td>12523</td>\n      <td>2.0</td>\n      <td>1</td>\n      <td>4</td>\n      <td>...</td>\n      <td>8</td>\n      <td>1600.0</td>\n      <td>1190</td>\n      <td>1977</td>\n      <td>0</td>\n      <td>98198</td>\n      <td>47.3571</td>\n      <td>-122.324</td>\n      <td>2990</td>\n      <td>11476</td>\n    </tr>\n    <tr>\n      <th>13710</th>\n      <td>2923500230</td>\n      <td>20141216T000000</td>\n      <td>2600000.0</td>\n      <td>4</td>\n      <td>4.50</td>\n      <td>5270</td>\n      <td>12195</td>\n      <td>2.0</td>\n      <td>1</td>\n      <td>4</td>\n      <td>...</td>\n      <td>11</td>\n      <td>3400.0</td>\n      <td>1870</td>\n      <td>1979</td>\n      <td>0</td>\n      <td>98027</td>\n      <td>47.5696</td>\n      <td>-122.090</td>\n      <td>3390</td>\n      <td>9905</td>\n    </tr>\n    <tr>\n      <th>13967</th>\n      <td>3126059023</td>\n      <td>20150303T000000</td>\n      <td>3395000.0</td>\n      <td>4</td>\n      <td>3.50</td>\n      <td>4730</td>\n      <td>47870</td>\n      <td>1.0</td>\n      <td>1</td>\n      <td>4</td>\n      <td>...</td>\n      <td>10</td>\n      <td>2940.0</td>\n      <td>1790</td>\n      <td>1954</td>\n      <td>0</td>\n      <td>98033</td>\n      <td>47.6967</td>\n      <td>-122.216</td>\n      <td>3250</td>\n      <td>49346</td>\n    </tr>\n    <tr>\n      <th>14083</th>\n      <td>3625059043</td>\n      <td>20140904T000000</td>\n      <td>3300000.0</td>\n      <td>5</td>\n      <td>4.75</td>\n      <td>6200</td>\n      <td>13873</td>\n      <td>2.0</td>\n      <td>1</td>\n      <td>4</td>\n      <td>...</td>\n      <td>11</td>\n      <td>4440.0</td>\n      <td>1760</td>\n      <td>1989</td>\n      <td>0</td>\n      <td>98008</td>\n      <td>47.6050</td>\n      <td>-122.112</td>\n      <td>2940</td>\n      <td>13525</td>\n    </tr>\n    <tr>\n      <th>14619</th>\n      <td>7936500109</td>\n      <td>20140725T000000</td>\n      <td>2230000.0</td>\n      <td>3</td>\n      <td>3.00</td>\n      <td>3620</td>\n      <td>28064</td>\n      <td>2.0</td>\n      <td>1</td>\n      <td>4</td>\n      <td>...</td>\n      <td>10</td>\n      <td>2370.0</td>\n      <td>1250</td>\n      <td>1977</td>\n      <td>0</td>\n      <td>98136</td>\n      <td>47.5516</td>\n      <td>-122.398</td>\n      <td>2550</td>\n      <td>34713</td>\n    </tr>\n    <tr>\n      <th>14822</th>\n      <td>3623500408</td>\n      <td>20150330T000000</td>\n      <td>2600000.0</td>\n      <td>3</td>\n      <td>3.00</td>\n      <td>3410</td>\n      <td>16015</td>\n      <td>2.0</td>\n      <td>1</td>\n      <td>4</td>\n      <td>...</td>\n      <td>10</td>\n      <td>2220.0</td>\n      <td>1190</td>\n      <td>1973</td>\n      <td>0</td>\n      <td>98040</td>\n      <td>47.5721</td>\n      <td>-122.239</td>\n      <td>3760</td>\n      <td>16572</td>\n    </tr>\n    <tr>\n      <th>15482</th>\n      <td>624069108</td>\n      <td>20140812T000000</td>\n      <td>3200000.0</td>\n      <td>4</td>\n      <td>3.25</td>\n      <td>7000</td>\n      <td>28206</td>\n      <td>1.0</td>\n      <td>1</td>\n      <td>4</td>\n      <td>...</td>\n      <td>12</td>\n      <td>3500.0</td>\n      <td>3500</td>\n      <td>1991</td>\n      <td>0</td>\n      <td>98075</td>\n      <td>47.5928</td>\n      <td>-122.086</td>\n      <td>4913</td>\n      <td>14663</td>\n    </tr>\n    <tr>\n      <th>15668</th>\n      <td>4030100290</td>\n      <td>20141001T000000</td>\n      <td>1680000.0</td>\n      <td>5</td>\n      <td>3.50</td>\n      <td>5170</td>\n      <td>7197</td>\n      <td>3.0</td>\n      <td>1</td>\n      <td>4</td>\n      <td>...</td>\n      <td>11</td>\n      <td>3520.0</td>\n      <td>1650</td>\n      <td>1998</td>\n      <td>0</td>\n      <td>98155</td>\n      <td>47.7561</td>\n      <td>-122.271</td>\n      <td>3020</td>\n      <td>12880</td>\n    </tr>\n    <tr>\n      <th>16817</th>\n      <td>825059178</td>\n      <td>20140923T000000</td>\n      <td>2574000.0</td>\n      <td>4</td>\n      <td>3.75</td>\n      <td>4475</td>\n      <td>20424</td>\n      <td>2.0</td>\n      <td>1</td>\n      <td>4</td>\n      <td>...</td>\n      <td>12</td>\n      <td>2659.0</td>\n      <td>1816</td>\n      <td>1999</td>\n      <td>0</td>\n      <td>98033</td>\n      <td>47.6646</td>\n      <td>-122.208</td>\n      <td>4340</td>\n      <td>5250</td>\n    </tr>\n    <tr>\n      <th>17767</th>\n      <td>7352200450</td>\n      <td>20150115T000000</td>\n      <td>2050000.0</td>\n      <td>4</td>\n      <td>3.25</td>\n      <td>3580</td>\n      <td>19989</td>\n      <td>1.5</td>\n      <td>1</td>\n      <td>4</td>\n      <td>...</td>\n      <td>7</td>\n      <td>3480.0</td>\n      <td>100</td>\n      <td>1915</td>\n      <td>1965</td>\n      <td>98125</td>\n      <td>47.7087</td>\n      <td>-122.276</td>\n      <td>2410</td>\n      <td>6389</td>\n    </tr>\n    <tr>\n      <th>18199</th>\n      <td>3625059152</td>\n      <td>20141230T000000</td>\n      <td>3300000.0</td>\n      <td>3</td>\n      <td>3.25</td>\n      <td>4220</td>\n      <td>41300</td>\n      <td>1.0</td>\n      <td>1</td>\n      <td>4</td>\n      <td>...</td>\n      <td>11</td>\n      <td>2460.0</td>\n      <td>1760</td>\n      <td>1958</td>\n      <td>1987</td>\n      <td>98008</td>\n      <td>47.6083</td>\n      <td>-122.110</td>\n      <td>3810</td>\n      <td>30401</td>\n    </tr>\n    <tr>\n      <th>18455</th>\n      <td>8043700300</td>\n      <td>20140608T000000</td>\n      <td>2700000.0</td>\n      <td>4</td>\n      <td>3.25</td>\n      <td>4420</td>\n      <td>7850</td>\n      <td>2.0</td>\n      <td>1</td>\n      <td>4</td>\n      <td>...</td>\n      <td>11</td>\n      <td>3150.0</td>\n      <td>1270</td>\n      <td>2001</td>\n      <td>0</td>\n      <td>98008</td>\n      <td>47.5720</td>\n      <td>-122.102</td>\n      <td>2760</td>\n      <td>8525</td>\n    </tr>\n    <tr>\n      <th>18556</th>\n      <td>6613000930</td>\n      <td>20140902T000000</td>\n      <td>2950000.0</td>\n      <td>4</td>\n      <td>3.25</td>\n      <td>3890</td>\n      <td>25470</td>\n      <td>2.0</td>\n      <td>1</td>\n      <td>3</td>\n      <td>...</td>\n      <td>10</td>\n      <td>3030.0</td>\n      <td>860</td>\n      <td>1923</td>\n      <td>0</td>\n      <td>98105</td>\n      <td>47.6608</td>\n      <td>-122.269</td>\n      <td>4140</td>\n      <td>19281</td>\n    </tr>\n    <tr>\n      <th>20325</th>\n      <td>518500480</td>\n      <td>20140811T000000</td>\n      <td>3000000.0</td>\n      <td>3</td>\n      <td>3.50</td>\n      <td>4410</td>\n      <td>10756</td>\n      <td>2.0</td>\n      <td>1</td>\n      <td>4</td>\n      <td>...</td>\n      <td>11</td>\n      <td>3430.0</td>\n      <td>980</td>\n      <td>2014</td>\n      <td>0</td>\n      <td>98056</td>\n      <td>47.5283</td>\n      <td>-122.205</td>\n      <td>3550</td>\n      <td>5634</td>\n    </tr>\n    <tr>\n      <th>20767</th>\n      <td>8043700105</td>\n      <td>20150417T000000</td>\n      <td>2300000.0</td>\n      <td>4</td>\n      <td>4.00</td>\n      <td>4360</td>\n      <td>8175</td>\n      <td>2.5</td>\n      <td>1</td>\n      <td>4</td>\n      <td>...</td>\n      <td>10</td>\n      <td>3940.0</td>\n      <td>420</td>\n      <td>2007</td>\n      <td>0</td>\n      <td>98008</td>\n      <td>47.5724</td>\n      <td>-122.104</td>\n      <td>2670</td>\n      <td>8525</td>\n    </tr>\n    <tr>\n      <th>21201</th>\n      <td>518500460</td>\n      <td>20141008T000000</td>\n      <td>2230000.0</td>\n      <td>3</td>\n      <td>3.50</td>\n      <td>3760</td>\n      <td>5634</td>\n      <td>2.0</td>\n      <td>1</td>\n      <td>4</td>\n      <td>...</td>\n      <td>11</td>\n      <td>2830.0</td>\n      <td>930</td>\n      <td>2014</td>\n      <td>0</td>\n      <td>98056</td>\n      <td>47.5285</td>\n      <td>-122.205</td>\n      <td>3560</td>\n      <td>5762</td>\n    </tr>\n    <tr>\n      <th>21576</th>\n      <td>9253900271</td>\n      <td>20150107T000000</td>\n      <td>3567000.0</td>\n      <td>5</td>\n      <td>4.50</td>\n      <td>4850</td>\n      <td>10584</td>\n      <td>2.0</td>\n      <td>1</td>\n      <td>4</td>\n      <td>...</td>\n      <td>10</td>\n      <td>3540.0</td>\n      <td>1310</td>\n      <td>2007</td>\n      <td>0</td>\n      <td>98008</td>\n      <td>47.5943</td>\n      <td>-122.110</td>\n      <td>3470</td>\n      <td>18270</td>\n    </tr>\n  </tbody>\n</table>\n<p>41 rows × 21 columns</p>\n</div>"
          },
          "metadata": {}
        }
      ]
    },
    {
      "cell_type": "code",
      "source": "df1 = df[((df['waterfront'] == 1) | (df['view'] == 4)) & (df['condition'] >=4) & (df['yr_built'] >= 1980)]",
      "metadata": {
        "trusted": true
      },
      "execution_count": 83,
      "outputs": []
    },
    {
      "cell_type": "code",
      "source": " {df1['price'].min(),df1['price'].max()}",
      "metadata": {
        "trusted": true
      },
      "execution_count": 85,
      "outputs": [
        {
          "execution_count": 85,
          "output_type": "execute_result",
          "data": {
            "text/plain": "{705000.0, 5300000.0}"
          },
          "metadata": {}
        }
      ]
    },
    {
      "cell_type": "markdown",
      "source": "Клиент хочет дом без подвала, с двумя этажами, стоимостью до 150000. Какая оценка по состоянию у таких домов в среднем?",
      "metadata": {}
    },
    {
      "cell_type": "code",
      "source": "df2 = df[(df['floors'] == 2) & (df['price'] <= 150000) & (df['sqft_basement'] == 0)]",
      "metadata": {
        "trusted": true
      },
      "execution_count": 88,
      "outputs": []
    },
    {
      "cell_type": "code",
      "source": "df2['condition'].mean()",
      "metadata": {
        "trusted": true
      },
      "execution_count": 89,
      "outputs": [
        {
          "execution_count": 89,
          "output_type": "execute_result",
          "data": {
            "text/plain": "3.0"
          },
          "metadata": {}
        }
      ]
    },
    {
      "cell_type": "code",
      "source": "",
      "metadata": {},
      "execution_count": null,
      "outputs": []
    }
  ]
}